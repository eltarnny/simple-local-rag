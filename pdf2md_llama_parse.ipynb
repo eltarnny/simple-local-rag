{
 "cells": [
  {
   "cell_type": "code",
   "execution_count": null,
   "metadata": {},
   "outputs": [],
   "source": [
    "import nest_asyncio\n",
    "from llama_parse import LlamaParse\n",
    "from dotenv import load_dotenv\n",
    "import os\n",
    "\n",
    "nest_asyncio.apply()\n",
    "\n",
    "load_dotenv()"
   ]
  },
  {
   "cell_type": "markdown",
   "metadata": {},
   "source": [
    "### Llama Parse"
   ]
  },
  {
   "cell_type": "markdown",
   "metadata": {},
   "source": [
    "https://cloud.llamaindex.ai/parse  \n",
    "1000 pages free per day  \n",
    "https://docs.cloud.llamaindex.ai/llamaparse/features/python_usage"
   ]
  },
  {
   "cell_type": "markdown",
   "metadata": {},
   "source": [
    "You can find the rulebook pdf files with a simple internet search.  "
   ]
  },
  {
   "cell_type": "code",
   "execution_count": null,
   "metadata": {},
   "outputs": [],
   "source": [
    "# fname_no_ext = \"TWOW_07_Rulebook_Main_(36p)_EN_preview_22-10-20-skompresowany\"\n",
    "fname_no_ext = \"DUNE_IMPERIUM_UPRISING_RULEBOOK\"\n",
    "fname = fname_no_ext + \".pdf\""
   ]
  },
  {
   "cell_type": "markdown",
   "metadata": {},
   "source": [
    "This can take several minutes (5-10 in my case)  "
   ]
  },
  {
   "cell_type": "code",
   "execution_count": null,
   "metadata": {},
   "outputs": [
    {
     "name": "stdout",
     "output_type": "stream",
     "text": [
      "Started parsing the file under job_id f181f79f-f06f-4fbc-9d3b-7aeaaff31719\n",
      "..................."
     ]
    }
   ],
   "source": [
    "# Initialize the parser with your API key and desired settings\n",
    "parser = LlamaParse(\n",
    "    api_key=os.getenv('LLAMA_CLOUD_API_KEY'),  # Replace with your actual API key\n",
    "    result_type=\"markdown\",  # \"markdown\" and \"text\" are available options\n",
    "    num_workers=4,  # Number of workers for parallel processing\n",
    "    verbose=True,  # Enable verbose output\n",
    "    language=\"en\"  # Set the language (default is English)\n",
    ")\n",
    "\n",
    "# Load and parse a single PDF file asynchronously\n",
    "async_documents = await parser.aload_data(fname)\n",
    "# For the above 36 page pdf, it took 4m13s to parse\n",
    "\n",
    "if isinstance(async_documents, list) and async_documents:\n",
    "    with open(fname_no_ext + '.md', 'w') as file:\n",
    "        file.write(async_documents[0].text)"
   ]
  },
  {
   "cell_type": "markdown",
   "metadata": {},
   "source": [
    "Inspecting the document structure (just curious)"
   ]
  },
  {
   "cell_type": "code",
   "execution_count": null,
   "metadata": {},
   "outputs": [
    {
     "name": "stdout",
     "output_type": "stream",
     "text": [
      "dict_keys(['id_', 'embedding', 'metadata', 'excluded_embed_metadata_keys', 'excluded_llm_metadata_keys', 'relationships', 'text', 'start_char_idx', 'end_char_idx', 'text_template', 'metadata_template', 'metadata_seperator'])\n"
     ]
    }
   ],
   "source": [
    "print(async_documents[0].__dict__.keys())"
   ]
  },
  {
   "cell_type": "code",
   "execution_count": null,
   "metadata": {},
   "outputs": [
    {
     "name": "stdout",
     "output_type": "stream",
     "text": [
      "id_: ec4a14b0-b541-4cd1-aa62-cdd115331ab5\n",
      "embedding: None\n",
      "metadata: {}\n",
      "excluded_embed_metadata_keys: []\n",
      "excluded_llm_metadata_keys: []\n",
      "relationships: {}\n",
      "start_char_idx: None\n",
      "end_char_idx: None\n",
      "text_template: {metadata_str}\n",
      "\n",
      "{content}\n",
      "metadata_template: {key}: {value}\n",
      "metadata_seperator: \n",
      "\n"
     ]
    }
   ],
   "source": [
    "for key, value in async_documents[0].__dict__.items():\n",
    "    if key != 'text':\n",
    "        print(f\"{key}: {value}\")\n"
   ]
  }
 ],
 "metadata": {
  "language_info": {
   "name": "python"
  }
 },
 "nbformat": 4,
 "nbformat_minor": 2
}
