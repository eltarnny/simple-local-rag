{
 "cells": [
  {
   "cell_type": "markdown",
   "metadata": {},
   "source": [
    "### Ask a LLM about board game rules, using the board game rulebook  \n"
   ]
  },
  {
   "cell_type": "markdown",
   "metadata": {},
   "source": [
    "Here we implement a simple RAG (Retrieval Augmented Generation) system in order to ask simple questions answered based on the game rulebook.  \n",
    "Because we had to choose a very small model, we could not provide too much context to the LLM.  \n",
    "During tests where we provided too much content, the LLM got confused and produced serious hallucinations. \n",
    "So, you can ask questions that can be answered in 300-600 words in the rulebook.  \n",
    "It's better to avoid more complex questions like \"For game X, please tell me how to setup a 2-player game\".  \n",
    "However, if you want to try more complex questions, play with the variables `number_of_results` and `extend_results_by`.  \n",
    "Have in mind that larger values need more VRAM and increase execution time exponentially.  "
   ]
  },
  {
   "cell_type": "markdown",
   "metadata": {},
   "source": [
    "Embedding model chosen from:  \n",
    "https://huggingface.co/spaces/mteb/leaderboard  \n",
    "We need a small but capable model."
   ]
  },
  {
   "cell_type": "code",
   "execution_count": 13,
   "metadata": {},
   "outputs": [],
   "source": [
    "import torch\n",
    "import chromadb"
   ]
  },
  {
   "cell_type": "code",
   "execution_count": 2,
   "metadata": {},
   "outputs": [],
   "source": [
    "from customEmbedFunction import TransformerEmbeddingFunction"
   ]
  },
  {
   "cell_type": "code",
   "execution_count": 3,
   "metadata": {},
   "outputs": [],
   "source": [
    "chroma_client = chromadb.PersistentClient(path=\"chroma\")\n",
    "embedder_name = \"w601sxs/b1ade-embed\"\n",
    "collection = chroma_client.get_or_create_collection(name='bg-rag', embedding_function=TransformerEmbeddingFunction(embedder_name, use_cuda=True))"
   ]
  },
  {
   "cell_type": "markdown",
   "metadata": {},
   "source": [
    "During the tests, the name of the game carried a lot of semantic meaning for the returned results.  \n",
    "It was 'masking' the semantic meaning of the actual question.  \n",
    "As a solution, first we get a sample of results to find the game name.  \n",
    "Then we select new results just for this game and replace the name of the game in the question text with the generic 'the game'.  "
   ]
  },
  {
   "cell_type": "code",
   "execution_count": 4,
   "metadata": {},
   "outputs": [
    {
     "name": "stderr",
     "output_type": "stream",
     "text": [
      "c:\\Users\\eltar\\anaconda3\\envs\\RAG-YT-History\\Lib\\site-packages\\transformers\\models\\bert\\modeling_bert.py:435: UserWarning: 1Torch was not compiled with flash attention. (Triggered internally at ..\\aten\\src\\ATen\\native\\transformers\\cuda\\sdp_utils.cpp:455.)\n",
      "  attn_output = torch.nn.functional.scaled_dot_product_attention(\n"
     ]
    }
   ],
   "source": [
    "questions = []\n",
    "questions.append(\"For The Witcher: Old World, please tell me how to setup a 2-player game.\")\n",
    "questions.append(\"In The Witcher: Old World, can I play poker and fight a player at the same turn?\")\n",
    "questions.append(\"In Dune: Imperium - Uprising, please explain in detail how spies and observation posts work.\")\n",
    "number_of_results = 2 # This should be the perfect value for this model.\n",
    "extend_results_by = 1 # For complex questions that need larger context, choose 2.\n",
    "selected_question = 0 # Choose the question you want to try by changing the index.\n",
    "\n",
    "question = questions[selected_question]\n",
    "\n",
    "# Find the game of the question\n",
    "results = collection.query(\n",
    "    query_texts=[question], \n",
    "    n_results=3, \n",
    "    )\n",
    "\n",
    "# print(results['ids'])\n",
    "\n",
    "# Get the name of the game (the most common value)\n",
    "games = [result['bg_name'] for result in results['metadatas'][0]]\n",
    "game_name = max(set(games), key=games.count)\n",
    "\n",
    "question = question.replace(game_name, \"the game\", -1)\n",
    "\n",
    "# Get results for the specific game\n",
    "results = collection.query(\n",
    "    query_texts=[question], \n",
    "    n_results=number_of_results, \n",
    "    where={\"bg_name\": game_name},\n",
    "    )"
   ]
  },
  {
   "cell_type": "code",
   "execution_count": null,
   "metadata": {},
   "outputs": [
    {
     "data": {
      "text/plain": [
       "[['TWOW_07_Rulebook_Main_(36p)_EN_preview_22-10-20-skompresowany.md_09',\n",
       "  'TWOW_07_Rulebook_Main_(36p)_EN_preview_22-10-20-skompresowany.md_10',\n",
       "  'TWOW_07_Rulebook_Main_(36p)_EN_preview_22-10-20-skompresowany.md_42']]"
      ]
     },
     "execution_count": 5,
     "metadata": {},
     "output_type": "execute_result"
    }
   ],
   "source": [
    "results['ids']"
   ]
  },
  {
   "cell_type": "code",
   "execution_count": 6,
   "metadata": {},
   "outputs": [
    {
     "data": {
      "text/plain": [
       "[['| | | |8.2| | | | | |10.3| | | | |10.2| | | | |10.1| | | |9| |6| Setup for a 2-Player Game 9 Starting Player and Help Cards The Player who most recently read a Witcher book is the Starting Player; alternatively, you can determine this randomly. Each Player takes an Action and Fight Help Card. Clarification: The Starting Player of the game should be making the last choice (in a 5-Player game the Starting Player draws the last remaining Player Board). 10 Player Components Each Player does the following: 1. Starting with the Player to the right of the starting Player, then continuing in counter-clockwise order, each Player takes a Player Board, by performing the following steps (one at a time): - Shuffle all (unchosen) Player Boards face-down. - Draw 2; then, choose 1 to keep. (Return the unchosen one back with the remaining Boards.) Optionally: Players can distribute Player Boards using any method they choose. 1. Take the Scoring Token (matching your School color) and place it on the lowest spot of the Trophy Track. 2. Take the Witcher Miniature that corresponds to your chosen Player Board; take and attach the matching colored ring to it, then place the miniature on the School Location that matches your chosen School symbol. --- # Starting Action |10.5|Witcher Trophy Cards|Gold| |---|---|---| |Cards Deck| |10.8| 10.7 quick slash push |10.6|10.4|aard| |---|---|---| |Shield Marker|5 Cubes|Cards in hand| 1. Take 5 Cubes (matching your School color) and place 1 on each of the level 1 spots of all 4 Attribute tracks and the Witcher level track. 2. Take the number of your Witcher Trophy Cards equal to the number of your opponents (i.e. 3 cards in a 4-Player game); place them face down under your Player Board. 3. Take the',\n",
       "  'Shield Marker (matching your School color) and place it on the “1” spot of the Shield Track. 4. Take your 10 starting cards (they can be identified by the icon in the top right corner that matches your chosen School); shuffle them in a face-down deck and place it on the corresponding spot next to your Player Board. 5. According to the number of Players and Player order: - Take the indicated amount of Gold; place it nearby your Player Board. - Draw the indicated number of cards from your deck. | |2-player|3-player|4-player|5-player| |---|---|---|---|---| |1st Player|3 cards, 2 Gold|3 cards, 2 Gold|2 cards, 4 Gold|2 cards, 5 Gold| |2nd Player|5 cards, 4 Gold|4 cards, 4 Gold|3 cards, 5 Gold|3 cards, 5 Gold| |3rd Player|X|5 cards, 6 Gold|4 cards, 6 Gold|4 cards, 5 Gold| |4th Player|X|X|5 cards, 7 Gold|4 cards, 7 Gold| |5th Player|X|X|X|5 cards, 7 Gold| 9. Return all remaining Player components back to the game box. --- # gameplay How to use this Rulebook? The best way to learn how to play The Witcher: Old World, is to go through the next four chapters of this Rulebook, in this order: 1. Game Basics (page 9) 2. Player’s Turn Explained (page 12) 3. Fights (page 20) 4. Location Actions (page 35) We also recommend that you use this order when teaching the game – just focus on the main rules to help new Players grasp the game flow. Golden Rule Card text supersedes the Rulebook: - If any text on a card contradicts any rule written in this rulebook, obey the rules on the card. - If Players disagree on how an effect should be resolved: resolve it in a way that would maintain the greatest thematic sense. # GAME BASICS # Action Cards Each Player begins with a unique',\n",
       "  'Life Pool – they place their face–up next to the deck. --- # Solo Mode Set up the game as you would for a regular (2/3-player) game with the following changes: New Solo-Help Card: Take the Solo-Help Card and keep it nearby. Player Setup Change: Take 3 Gold and place it on your Player Board. Draw 5 cards from your deck. Monster Setup Change: Draw 1 Monster token from each Monster-token stack (3 in total; 1 each of Level I, II and III). Do this instead of drawing 3 from the Level I stack. The rest of Monster setup is the same. Attribute Trophy Setup Change: Shuffle one set of Attribute Trophy cards together (one of each type). Randomly draw 1 and place it near the game board face up. (Return the remaining attribute trophies to the game box.) Exploration Cards Any effect that asks another Player to read something, must be read by yourself. When reading, cover the card (that you are reading) with another, so that you do not see the results until you make a choice. (If possible, do not read the result that corresponds to the choice you didn’t make.) Fighting Monsters During your Fights, when the Monster attacks, the attack type is determined by a Die roll: On a roll of 1-3, the type is Charge; on a 4-6, it is Bite. Defeating a Monster Do not draw a new Monster Card after Defeating one. Drive a Monster Away If you Drive a Monster Away, you still spawn a new Monster of the same Level (as normal); however, Driving a Monster Away does not count as Defeating a Monster (for the purposes of winning the game, as you do not obtain a Trophy). Gain a new card During Phase III, if you gain any other']]"
      ]
     },
     "execution_count": 6,
     "metadata": {},
     "output_type": "execute_result"
    }
   ],
   "source": [
    "results['documents']"
   ]
  },
  {
   "cell_type": "markdown",
   "metadata": {},
   "source": [
    "Semantic search cannot get the full related context, only the most relevant chunks.  \n",
    "As a solution, we select surrounding chunks (previous and next chunks for each chunk) to try and get the full context.  "
   ]
  },
  {
   "cell_type": "code",
   "execution_count": 7,
   "metadata": {},
   "outputs": [
    {
     "name": "stdout",
     "output_type": "stream",
     "text": [
      "['TWOW_07_Rulebook_Main_(36p)_EN_preview_22-10-20-skompresowany.md_08', 'TWOW_07_Rulebook_Main_(36p)_EN_preview_22-10-20-skompresowany.md_09', 'TWOW_07_Rulebook_Main_(36p)_EN_preview_22-10-20-skompresowany.md_10', 'TWOW_07_Rulebook_Main_(36p)_EN_preview_22-10-20-skompresowany.md_11', 'TWOW_07_Rulebook_Main_(36p)_EN_preview_22-10-20-skompresowany.md_41', 'TWOW_07_Rulebook_Main_(36p)_EN_preview_22-10-20-skompresowany.md_42', 'TWOW_07_Rulebook_Main_(36p)_EN_preview_22-10-20-skompresowany.md_43']\n"
     ]
    }
   ],
   "source": [
    "# Select surrounding documents/chunks (previous and next for each document), in case we missed some content.\n",
    "ids = results['ids'][0]\n",
    "\n",
    "# Extracting the numbers from the ids and converting to integers\n",
    "numbers = [int(id.split('_')[-1]) for id in ids]\n",
    "\n",
    "# Getting the surrounding ids (chunks) based on the offset\n",
    "offset = extend_results_by\n",
    "result_list = []\n",
    "for id in ids:\n",
    "    num = int(id.split('_')[-1])\n",
    "    filename = id.rsplit('_', 1)[0]\n",
    "    for i in range(-offset, offset + 1):\n",
    "        surrounding_id = f'{filename}_{num + i:02d}'\n",
    "        result_list.append(surrounding_id)\n",
    "\n",
    "result_list = list(dict.fromkeys(result_list))\n",
    "\n",
    "print(result_list)"
   ]
  },
  {
   "cell_type": "code",
   "execution_count": 8,
   "metadata": {},
   "outputs": [],
   "source": [
    "# Get the extended results.\n",
    "# Unfortunately, these come back sorted by id, so our semantically relevant chunks may be in the wrong order.\n",
    "results = collection.get(ids=result_list)"
   ]
  },
  {
   "cell_type": "code",
   "execution_count": 9,
   "metadata": {},
   "outputs": [
    {
     "data": {
      "text/plain": [
       "['TWOW_07_Rulebook_Main_(36p)_EN_preview_22-10-20-skompresowany.md_08',\n",
       " 'TWOW_07_Rulebook_Main_(36p)_EN_preview_22-10-20-skompresowany.md_09',\n",
       " 'TWOW_07_Rulebook_Main_(36p)_EN_preview_22-10-20-skompresowany.md_10',\n",
       " 'TWOW_07_Rulebook_Main_(36p)_EN_preview_22-10-20-skompresowany.md_11',\n",
       " 'TWOW_07_Rulebook_Main_(36p)_EN_preview_22-10-20-skompresowany.md_41',\n",
       " 'TWOW_07_Rulebook_Main_(36p)_EN_preview_22-10-20-skompresowany.md_42',\n",
       " 'TWOW_07_Rulebook_Main_(36p)_EN_preview_22-10-20-skompresowany.md_43']"
      ]
     },
     "execution_count": 9,
     "metadata": {},
     "output_type": "execute_result"
    }
   ],
   "source": [
    "results['ids']"
   ]
  },
  {
   "cell_type": "code",
   "execution_count": 10,
   "metadata": {},
   "outputs": [
    {
     "data": {
      "text/plain": [
       "['Dice Place all Gold Tokens and the two sets of Poker Dice near the Game Board. 7 Location Tokens Sort all Location Tokens into 3 piles (according to their Terrain types of: Forest, Mountain, and Water). Shuffle each pile separately and place them in separate facedown piles near the Game Board. Draw 1 token from each pile and place them face up on their corresponding slots on the Game Board. 8 Monsters 1. Sort all Monster Cards into 3 separate piles (based on their Level: I, II, or III) and place them nearby face up, showing Monster’s illustration, Life Pool, and Special Ability. 2. Sort all Monster Tokens into 3 separate piles (based on their Level: I, II, or III). Shuffle each pile separately and place them nearby face down. 3. Draw 3 Tokens from the Level I Stack of Monster Tokens; place them randomly, 1 near each of the face-up Location Tokens on the Game Board, in the Monster section. - 2-Player Game: Draw 2 Tokens from the Level I Stack of Monster Tokens and 1 from the Level II Stack, instead. The Starting Player chooses the Terrain type for the Level II Monster. 4. Turn the Monster Tokens face-up. 5. Move the Monster Token to a Location shown on the Location Token. Place the token near the Location; do not cover the Terrain type on the Game Board. 6. Then, find a Monster Card matching the token, and place it on the Game Board, directly below the corresponding Location Token. 7. Shuffle the Monster Fight deck and place it next to the Game Board. --- | |2| |8.7| |---|---|---|---| | |8.6| | | |1| | | | | |7| | | | |8.5| |8.5| | | | |7| | | | |10.3| | |5| |8.1| | |8.5| |',\n",
       " '| | | |8.2| | | | | |10.3| | | | |10.2| | | | |10.1| | | |9| |6| Setup for a 2-Player Game 9 Starting Player and Help Cards The Player who most recently read a Witcher book is the Starting Player; alternatively, you can determine this randomly. Each Player takes an Action and Fight Help Card. Clarification: The Starting Player of the game should be making the last choice (in a 5-Player game the Starting Player draws the last remaining Player Board). 10 Player Components Each Player does the following: 1. Starting with the Player to the right of the starting Player, then continuing in counter-clockwise order, each Player takes a Player Board, by performing the following steps (one at a time): - Shuffle all (unchosen) Player Boards face-down. - Draw 2; then, choose 1 to keep. (Return the unchosen one back with the remaining Boards.) Optionally: Players can distribute Player Boards using any method they choose. 1. Take the Scoring Token (matching your School color) and place it on the lowest spot of the Trophy Track. 2. Take the Witcher Miniature that corresponds to your chosen Player Board; take and attach the matching colored ring to it, then place the miniature on the School Location that matches your chosen School symbol. --- # Starting Action |10.5|Witcher Trophy Cards|Gold| |---|---|---| |Cards Deck| |10.8| 10.7 quick slash push |10.6|10.4|aard| |---|---|---| |Shield Marker|5 Cubes|Cards in hand| 1. Take 5 Cubes (matching your School color) and place 1 on each of the level 1 spots of all 4 Attribute tracks and the Witcher level track. 2. Take the number of your Witcher Trophy Cards equal to the number of your opponents (i.e. 3 cards in a 4-Player game); place them face down under your Player Board. 3. Take the',\n",
       " 'Shield Marker (matching your School color) and place it on the “1” spot of the Shield Track. 4. Take your 10 starting cards (they can be identified by the icon in the top right corner that matches your chosen School); shuffle them in a face-down deck and place it on the corresponding spot next to your Player Board. 5. According to the number of Players and Player order: - Take the indicated amount of Gold; place it nearby your Player Board. - Draw the indicated number of cards from your deck. | |2-player|3-player|4-player|5-player| |---|---|---|---|---| |1st Player|3 cards, 2 Gold|3 cards, 2 Gold|2 cards, 4 Gold|2 cards, 5 Gold| |2nd Player|5 cards, 4 Gold|4 cards, 4 Gold|3 cards, 5 Gold|3 cards, 5 Gold| |3rd Player|X|5 cards, 6 Gold|4 cards, 6 Gold|4 cards, 5 Gold| |4th Player|X|X|5 cards, 7 Gold|4 cards, 7 Gold| |5th Player|X|X|X|5 cards, 7 Gold| 9. Return all remaining Player components back to the game box. --- # gameplay How to use this Rulebook? The best way to learn how to play The Witcher: Old World, is to go through the next four chapters of this Rulebook, in this order: 1. Game Basics (page 9) 2. Player’s Turn Explained (page 12) 3. Fights (page 20) 4. Location Actions (page 35) We also recommend that you use this order when teaching the game – just focus on the main rules to help new Players grasp the game flow. Golden Rule Card text supersedes the Rulebook: - If any text on a card contradicts any rule written in this rulebook, obey the rules on the card. - If Players disagree on how an effect should be resolved: resolve it in a way that would maintain the greatest thematic sense. # GAME BASICS # Action Cards Each Player begins with a unique',\n",
       " 'Deck of 10 Action Cards; additionally, each Player can gain new cards – and even permanently lose some cards – to craft their own customized deck during the game! Action Cards have multiple uses; you can play each card for one of the following effects, either: to Move, or use a Fight ability. --- The bottom-left corner of the card depicts a Terrain symbol. (See Movement, on page 12). The bottom-right corner depicts the name and the cost of the card (see Drawing and Gaining Cards, on page 18). The top-left part of the card depicts the ability that may be used during an Attack (see Witcher’s Fight Turn, on page 22). There are 5 Types of cards: Fast Attack (blue), Strong Attack (red), Dodge (green), Defensive Sign (yellow), and Offensive Sign (purple). Card Type/Color Terrain Symbol aard Name and cost You have 4 Attributes depicted on your Player Board. The 3 leftmost ones are common among all Player Boards: - Combat will help you draw more cards during a Fight. - Defense will help you block more Damage during a Fight. - Alchemy will help you consume more magical Potions during a Fight. Any time you raise your Defense level, immediately raise your Shield level by 1 on your Shield track. Any time you raise your Alchemy level, immediately gain 1 Potion taken from the top of the Potion Deck. The rightmost Attribute - Specialty - is unique; it is determined by the Witcher school you chose during setup: Specialty is different for each Witcher, and all of them are explained later in this Rulebook (see page 34). Leveling Up After all of your Attribute markers are raised above your current Witcher Level, you immediately Level-Up to the next Level. - When you Level-Up to Level II or III:',\n",
       " 'Discards the Potion used in Fight. 2. Gains 2 Gold. 3. Turns the Monster Card over; they may read the fight description out loud. 4. Moves up by 1 on the Trophy Track. 5. Looks at all of their Action Cards – those in their Deck, hand, and Discard Pile – and Trashes 1 Card; after, they shuffle all of their remaining Action Cards and form a Deck. The Player has 5 cards in their hand. magic trap aard crippling strike quick slash push The Player uses the Blizzard Potion and flips it face down, leaving it next to their Player Board. They play a 3–card Combo and – thanks to the Potion Effect – 1 additional card, ignoring the extensions. |magic trap|crippling strike|aard|push| |---|---|---|---| |crippling strike| | | | |magic trap|crippling strike|aard|push| PHASE III – Drawing and Gaining Cards The Player proceeds to Phase III of their Turn. First, they draw cards from their Action Deck, until they have 3 cards in their hand. After, they choose 1 card, from the 6 revealed on the Board. |magic trap|crippling strike|aard|push| |---|---|---|---| |crippling strike| | | | |magic trap|crippling strike|aard|push| The Player decides to gain the Lightning Reflex from the right-most spot. This card costs 2, but it’s on the spot with the –1 cost modifier so the cost of this card is lowered to 1. The Player discards 1 card from their hand to their discard pile and draws the chosen card to their hand. Next, they slide 5 remaining cards to the right, to fill the empty space, draw 1 new card from the Action Deck, and place it on the left-most (empty) spot. First, 1 the Player sums all visible and activated Damage Icons (5). The Player controlling the Monster discards this amount of cards from the Monster',\n",
       " 'Life Pool – they place their face–up next to the deck. --- # Solo Mode Set up the game as you would for a regular (2/3-player) game with the following changes: New Solo-Help Card: Take the Solo-Help Card and keep it nearby. Player Setup Change: Take 3 Gold and place it on your Player Board. Draw 5 cards from your deck. Monster Setup Change: Draw 1 Monster token from each Monster-token stack (3 in total; 1 each of Level I, II and III). Do this instead of drawing 3 from the Level I stack. The rest of Monster setup is the same. Attribute Trophy Setup Change: Shuffle one set of Attribute Trophy cards together (one of each type). Randomly draw 1 and place it near the game board face up. (Return the remaining attribute trophies to the game box.) Exploration Cards Any effect that asks another Player to read something, must be read by yourself. When reading, cover the card (that you are reading) with another, so that you do not see the results until you make a choice. (If possible, do not read the result that corresponds to the choice you didn’t make.) Fighting Monsters During your Fights, when the Monster attacks, the attack type is determined by a Die roll: On a roll of 1-3, the type is Charge; on a 4-6, it is Bite. Defeating a Monster Do not draw a new Monster Card after Defeating one. Drive a Monster Away If you Drive a Monster Away, you still spawn a new Monster of the same Level (as normal); however, Driving a Monster Away does not count as Defeating a Monster (for the purposes of winning the game, as you do not obtain a Trophy). Gain a new card During Phase III, if you gain any other',\n",
       " 'card than a card from the right-most spot, discard the card from the right-most spot at the end of this Phase. # How to Win To win, you must gain 4 Trophies. To do this, you’ll need to do both of the following: 1. Defeat all 3 monsters (that were placed during setup). 2. Gain the Attribute Trophy (that was placed during setup). As in the regular game, the Attribute Trophy may not be the final Trophy that you obtain; thus, you may not Defeat the final Monster until you obtain the Attribute Trophy. Keep track of how many turns you take during the game for final scoring purposes. # Solo Dice Poker Results |Your Result|Reward| |---|---| |Pair|0 Gold| |Two Pairs|1 Gold| |Three-of-a-Kind|2 Gold| |Five High Straight|3 Gold| |Six High Straight|3 Gold| |Full House|4 Gold| |Four-of-a-Kind|5 Gold| |Five-of-a-Kind|6 Gold| # Gameplay changes Play the game as normal, except for the following changes: Dice Poker All Location Actions during Phase I are the same, except for Dice Poker. You start a game of Dice Poker as normal – you pay 1 Gold, roll 5 Dice, and then you may perform one reroll of any number of those Dice. After that, you compare your result to the Solo-Help Card. Gain Gold based on your result (see next page). --- # Game End The game ends immediately when you gain all 4 Trophies prepared at the Beginning of the Game. Remember, you must Defeat (not Drive Away) 3 Monsters to win. # Solo Witcher End-Game Results |Number of Turns it took you to complete the game:|Your Result| |---|---| |13 and more|Not bad… for a greenhorn. You wield your sword better and better, and the power of your Signs grows. Although you are still far from the greatest among witchers, you are a hunter']"
      ]
     },
     "execution_count": 10,
     "metadata": {},
     "output_type": "execute_result"
    }
   ],
   "source": [
    "results['documents']"
   ]
  },
  {
   "cell_type": "code",
   "execution_count": 11,
   "metadata": {},
   "outputs": [],
   "source": [
    "# Create the final context\n",
    "context = ' '.join(results['documents'])"
   ]
  },
  {
   "cell_type": "markdown",
   "metadata": {},
   "source": [
    "As the LLM of choice, we went for a very small quantized model in order to fit in 12GB VRAM.  \n",
    "Phi-3-mini-128k-instruct is a good choice, as it also has a huge context window, and it is intruction trained.  \n",
    "In fact, with such a low VRAM, we cannot use the whole context window.  \n",
    "If you have trouble fitting into your VRAM, play with the value max_new_tokens=20000.  "
   ]
  },
  {
   "cell_type": "code",
   "execution_count": null,
   "metadata": {},
   "outputs": [],
   "source": [
    "from transformers import AutoTokenizer, AutoModelForCausalLM, BitsAndBytesConfig\n",
    "import sentencepiece\n",
    "import accelerate\n",
    "\n",
    "bnb_config = BitsAndBytesConfig(\n",
    "        load_in_4bit=True,\n",
    "        bnb_4bit_quant_type='nf4',\n",
    "        bnb_4bit_compute_dtype=torch.float16,\n",
    "        bnb_4bit_use_double_quant=True,\n",
    "    )\n",
    "\n",
    "model_name='microsoft/Phi-3-mini-128k-instruct'\n",
    "\n",
    "tokenizer = AutoTokenizer.from_pretrained(model_name)\n",
    "model = AutoModelForCausalLM.from_pretrained(model_name, \n",
    "                                            device_map=\"auto\",\n",
    "                                            quantization_config=bnb_config,\n",
    "                                            trust_remote_code=True,\n",
    "                                            )"
   ]
  },
  {
   "cell_type": "markdown",
   "metadata": {},
   "source": [
    "Meager try of prompt engineering here.  \n",
    "The <|user|> and <|assistant|> special tokens here are how Phi3 expects input to be formatted.  "
   ]
  },
  {
   "cell_type": "code",
   "execution_count": null,
   "metadata": {},
   "outputs": [
    {
     "name": "stderr",
     "output_type": "stream",
     "text": [
      "You are not running the flash-attention implementation, expect numerical differences.\n"
     ]
    }
   ],
   "source": [
    "input_text = '''<|user|>\n",
    "Given the following context and question, answer the question based on the context.\n",
    "Follow this procedure step by step.\n",
    "1. From the given context, based on the question, find only the relevant sentences, paragraphs and sections.\n",
    "2. Based on the previous step, remove all the non relevant context from the given context.\n",
    "3. Answer ONLY based on the remaining context and nothing else.\n",
    "\n",
    "Context: ''' + context + '''\n",
    "\n",
    "Question: ''' + question + '''\n",
    "\n",
    "Answer:\n",
    "<|assistant|>\n",
    "'''\n",
    "input_ids = tokenizer(input_text, return_tensors=\"pt\").input_ids.to('cuda')\n",
    "\n",
    "outputs = model.generate(input_ids, max_new_tokens=20000)"
   ]
  },
  {
   "cell_type": "markdown",
   "metadata": {},
   "source": [
    "We use a list here, in case we want to have memory (continue conversation) in the future."
   ]
  },
  {
   "cell_type": "code",
   "execution_count": null,
   "metadata": {},
   "outputs": [],
   "source": [
    "outputs_list = []\n",
    "outputs_list.append(tokenizer.decode(outputs[0]).replace(\"<|end|>\", \"\"))"
   ]
  },
  {
   "cell_type": "markdown",
   "metadata": {},
   "source": [
    "This is the RAG answer.  \n",
    "Even the setup one is kind of OK.  \n",
    "There is some information missing, but the setup of this game is very complex  \n",
    "and some setup information is formatted very badly with nested lists and columns in the pdf rulebook.  \n",
    "With a human corrected markdown rulebook, and perhaps a slightly larger model, even this question can be answered correctly.  "
   ]
  },
  {
   "cell_type": "code",
   "execution_count": null,
   "metadata": {},
   "outputs": [
    {
     "data": {
      "text/plain": [
       "' To setup a 2-player game for The Witcher: Old World, follow these steps:\\n\\n1. Setup the Game Board in the middle of the table.\\n\\n2. Create the Action Card Deck by shuffling all Action Cards and placing them facedown on the indicated spot near the Game Board.\\n\\n3. Form the Action Cards Pool by revealing Action Cards until 3 \"0-cost\" cards are revealed. Place these 3 cards face up on the 3 right-most slots on the Game Board.\\n\\n4. Shuffle and place the remaining revealed Action Cards on the indicated spot near the Game Board.\\n\\n5. Place 3 Action Cards from the Action Deck on the three remaining slots on the Game Board.\\n\\n6. Setup the Potion Deck by shuffling all Potion Cards and placing them face down on their indicated space near the Game Board.\\n\\n7. Place 1 Attribute Trophy Card for each Attribute (Combat, Defense, Alchemy, and Specialty) on their designated spot on the Game Board.\\n\\n8. Place the remaining 4 cards back in the box.\\n\\n9. Determine the Starting Player. The Player who most recently read a Witcher book is the Starting Player; alternatively, you can determine this randomly.\\n\\n10. Each Player takes an Action and Fight Help Card.\\n\\n11. The Starting Player chooses the Terrain type for the Level II Monster.\\n\\n12. Setup for a 2-Player Game is complete.'"
      ]
     },
     "execution_count": 16,
     "metadata": {},
     "output_type": "execute_result"
    }
   ],
   "source": [
    "outputs_list[-1].split(\"<|assistant|>\")[-1]"
   ]
  },
  {
   "cell_type": "markdown",
   "metadata": {},
   "source": [
    "## The Witcher: Old World\n",
    "\n",
    "**For The Witcher: Old World, please tell me how to setup a 2-player game.**\n",
    "\n",
    " To setup a 2-player game for The Witcher: Old World, follow these steps:\n",
    " \n",
    " 1. Setup the Game Board in the middle of the table.\n",
    " 2. Create the Action Card Deck by shuffling all Action Cards and placing them facedown on the indicated spot near the Game Board.\n",
    " 3. Form the Action Cards Pool by revealing Action Cards until 3 \"0-cost\" cards are revealed. Place these 3 cards face up on the 3 right-most slots on the Game Board.\n",
    " 4. Shuffle and place the remaining revealed Action Cards on the indicated spot near the Game Board.\n",
    " 5. Place 3 Action Cards from the Action Deck on the three remaining slots on the Game Board.\n",
    " 6. Setup the Potion Deck by shuffling all Potion Cards and placing them face down on their indicated space near the Game Board.\n",
    " 7. Place 1 Attribute Trophy Card for each Attribute (Combat, Defense, Alchemy, and Specialty) on their designated spot on the Game Board.\n",
    " 8. Place the remaining 4 cards back in the box.\n",
    " 9. Determine the Starting Player. The Player who most recently read a Witcher book is the Starting Player; alternatively, you can determine this randomly.\n",
    " 10. Each Player takes an Action and Fight Help Card.\n",
    " 11. The Starting Player chooses the Terrain type for the Level II Monster\n",
    " 12. Setup for a 2-Player Game is complete.  \n",
    "\n",
    "**In The Witcher: Old World, can I play poker and fight a player at the same turn?**\n",
    "\n",
    "Yes, in the same turn, you can choose to play Dice Poker with another Witcher and also decide to Fight with a Witcher. However, you cannot Fight with a Witcher you played Dice Poker with in the same turn.  \n",
    "\n",
    "## Dune: Imperium - Uprising\n",
    "\n",
    "**In Dune: Imperium - Uprising, please explain in detail how spies and observation posts work.**\n",
    "\n",
    "In the game, spies and observation posts are strategic elements that allow players to gather intelligence and potentially infiltrate other players' territories. Here's a detailed explanation:\n",
    "\n",
    "1. **Observation Posts**: These are various board spaces across the game board. Each observation post is connected to one or more board spaces. Whenever the Spy icon appears on a card or board space, a player may place a Spy from their supply on an unoccupied observation post on the board.\n",
    "\n",
    "2. **Placement of Spies**: A player can only place a Spy on an observation post if they have a Spy in their supply. If a player has no Spies in their supply when they need to place one, they may first recall one of their Spies for no effect.\n",
    "\n",
    "3. **Recall of Spies**: Spies can be recalled from an observation post without using a card. There are two effects of recalling a Spy:\n",
    "   - **Infiltrate**: If a player wishes to send an Agent to a board space occupied by another player, they may recall their own Spy from a connected observation post to ignore the other player’s Agent and send their Agent to that same board space.\n",
    "   - **Gather Intelligence**: Whenever a player sends an Agent to a board space, they may recall their own Spy from a connected observation post to draw a card. This can only be done immediately after placing the Agent.\n",
    "\n",
    "4. **Spy Agent Icon**: This allows a player to send an Agent to a board space connected to an observation post where they currently have a Spy. However, the Spy is not recalled for this purpose.\n",
    "\n",
    "In summary, spies and observation posts add a layer of strategy to the game, allowing players to gather intelligence and potentially disrupt other players' plans. They are an integral part of the gameplay and can significantly influence the outcome of the game.  "
   ]
  },
  {
   "cell_type": "code",
   "execution_count": 20,
   "metadata": {},
   "outputs": [],
   "source": [
    "input_text = '''<|user|>\n",
    "''' + questions[selected_question] + '''\n",
    "<|assistant|>\n",
    "'''\n",
    "input_ids = tokenizer(input_text, return_tensors=\"pt\").input_ids.to('cuda')\n",
    "\n",
    "outputs = model.generate(input_ids, max_new_tokens=20000)"
   ]
  },
  {
   "cell_type": "code",
   "execution_count": 21,
   "metadata": {},
   "outputs": [],
   "source": [
    "outputs_list.append(tokenizer.decode(outputs[0]).replace(\"<|end|>\", \"\"))"
   ]
  },
  {
   "cell_type": "markdown",
   "metadata": {},
   "source": [
    "This is the answer without using RAG.  \n",
    "As you can see, the answers are complete hallucinations.  "
   ]
  },
  {
   "cell_type": "code",
   "execution_count": 22,
   "metadata": {},
   "outputs": [
    {
     "data": {
      "text/plain": [
       "' To set up a 2-player game for \"The Witcher: Old World\", follow these steps:\\n\\n\\n1. **Purchase the Game**: Ensure you have two copies of \"The Witcher: Old World\" for each player.\\n\\n\\n2. **Install the Game**: Install the game on your respective systems. If you\\'re playing on different platforms (PC, PlayStation, Xbox, etc.), you\\'ll need to install the game on each of your systems.\\n\\n\\n3. **Connect Online**: If the game supports online play, you\\'ll need to connect to the same online gaming service (like PlayStation Network or Xbox Live) to play together.\\n\\n\\n4. **Create Accounts**: Create separate accounts for each player if required by the game.\\n\\n\\n5. **Start a Game**: Launch the game on both systems. You can either start a new game or load an existing one.\\n\\n\\n6. **Join the Game**: On the system where you\\'re hosting the game, you\\'ll need to join the game session. This is usually done through the game\\'s main menu or a specific \\'Join Game\\' option.\\n\\n\\n7. **Play Together**: Once joined, you can play together, with each player controlling their own Geralt of Rivia character.\\n\\n\\nRemember to check the game\\'s specific instructions or community forums for any additional steps or tips specific to \"The Witcher: Old World\".'"
      ]
     },
     "execution_count": 22,
     "metadata": {},
     "output_type": "execute_result"
    }
   ],
   "source": [
    "outputs_list[-1].split(\"<|assistant|>\")[-1]"
   ]
  },
  {
   "cell_type": "markdown",
   "metadata": {},
   "source": [
    "## The Witcher: Old World\n",
    "\n",
    "**For The Witcher: Old World, please tell me how to setup a 2-player game.**\n",
    "\n",
    "To set up a 2-player game for \"The Witcher: Old World\", follow these steps:\n",
    "\n",
    "1. **Purchase the Game**: Ensure you have two copies of \"The Witcher: Old World\" for each player.\n",
    "\n",
    "2. **Install the Game**: Install the game on your respective systems. If you're playing on different platforms (PC, PlayStation, Xbox, etc.), you'll need to install the game on each of your systems.\n",
    "\n",
    "3. **Connect Online**: If the game supports online play, you'll need to connect to the same online gaming service (like PlayStation Network or Xbox Live) to play together.\n",
    "\n",
    "4. **Create Accounts**: Create separate accounts for each player if required by the game.\n",
    "\n",
    "5. **Start a Game**: Launch the game on both systems. You can either start a new game or load an existing one.\n",
    "\n",
    "6. **Join the Game**: On the system where you're hosting the game, you'll need to join the game session. This is usually done through the game's main menu or a specific 'Join Game' option.\n",
    "\n",
    "7. **Play Together**: Once joined, you can play together, with each player controlling their own Geralt of Rivia character.\n",
    "\n",
    "Remember to check the game's specific instructions or community forums for any additional steps or tips specific to \"The Witcher: Old World\".  \n",
    "\n",
    "\n",
    "**In The Witcher: Old World, can I play poker and fight a player at the same turn?**\n",
    "\n",
    "No, in The Witcher: Old World board game, you cannot perform two actions that require different types of resources in the same turn. Poker is a card game that requires gold, while fighting a player is a combat action that requires a sword.  \n",
    "\n",
    "\n",
    "## Dune: Imperium - Uprising\n",
    "\n",
    "**In Dune: Imperium - Uprising, please explain in detail how spies and observation posts work.**\n",
    "\n",
    "In the \"Dune: Imerium - Uprising\" board game, spies play a crucial role in gathering information and gaining strategic advantages. Here\\'s a detailed guide on how you can use spies effectively:\\n\\n1. Understanding Spy Mechanics: Spies are represented by the Spy tokens in the game. Each player starts with a certain number of these tokens, depending on their faction. Spies can be used to gather information about opponents\\' plans, resources, and positions.\\n\\n2. Gathering Information: To use a spy, you need to place it on a specific type of space called an Information Space. These spaces are usually marked with a symbol or color indicating their purpose. Information Spaces are found on the game board and are strategically placed to provide information about different aspects of the game.\\n\\n3. Information Gathering: When you place a spy on an Information Space, it will reveal information about the opponent\\'s resources, plans, or positions. The information gained can be used to make informed decisions about your own strategy.\\n\\n4. Information Usage: The information gathered by spies can be used in various ways. For example, you can use it to plan your moves, predict opponents\\' actions, or even sabotage their plans. Information can also be used to gain advantages in resource allocation or to influence the outcome of certain events in the game.\\n\\n5. Limitations and Risks: Using spies comes with certain limitations and risks. Spies can only be used once per turn, and they cannot be used to directly attack opponents. Additionally, spies can be detected by opponents, which may lead to countermeasures or retaliation.\\n\\n6. Strategic Placement: To maximize the effectiveness of spies, it\\'s important to strategically place them on Information Spaces. Consider the information you need to gather and the opponents you want to monitor. Placing spies in locations that provide valuable information about multiple opponents can be particularly advantageous.\\n\\n7. Balancing Spy Usage: While spies can provide significant advantages, it\\'s important to balance their usage with other gameplay elements. Over-reliance on spies may lead to predictability in your strategy, making it easier for opponents to counter.\\n\\nIn summary, spies in \"Dune: Imerium - Uprising\" are a powerful tool for gathering information and gaining strategic advantages. By understanding their mechanics, strategically placing them, and using the information effectively, you can enhance your gameplay and increase your chances of success.\n",
    "\n",
    "**In Dune: Imperium - Uprising, please explain in detail how spies and observation posts work.**\n",
    "\n",
    "In the Dune: Imperium - Uprising game, spies and observation posts play a crucial role in gathering information and gaining strategic advantages over opponents.\n",
    "\n",
    "Spies:\n",
    "Spies are specialized units that can be deployed by players to infiltrate enemy territories and gather intelligence. They are represented by unique icons on the game board. Here's how they work:\\n\\n1. Deployment: Players can deploy spies during their turn, but they must first spend a specific resource (e.g., Spice) to do so. The number of spies a player can deploy depends on their level and resources.\\n\\n2. Movement: Spies can move across the game board, but their movement is limited by their level and the terrain. They can move one space per turn, and they cannot move through impassable terrain like mountains or water.\\n\\n3. Gathering Information: When a spy enters an enemy territory, they can gather information about the enemy's forces, resources, and plans. This information is represented by cards that are placed in the spy's possession.\\n\\n4. Sabotage: Spies can also sabotage enemy operations by disrupting their supply lines, damaging their infrastructure, or assassinating key targets. This is done by using special abilities that are revealed when a spy is deployed.\\n\\nObservation Posts:\\nObservation posts are strategically placed on the game board to provide players with information about the state of the game. They are represented by icons that resemble telescopes or binoculars. Here's how they work:\\n\\n1. Placement: Players can place observation posts on any unoccupied space on the game board during their turn. Each observation post requires a specific resource (e.g., Spice) to be placed.\\n\\n2. Information Gathering: Once placed, an observation post provides players with information about the state of the game. This includes the number of spies each player has, the resources each player has, and the number of territories each player controls.\\n\\n3. Upgrades: Players can upgrade their observation posts to gain additional information. Upgrades require a specific resource (e.g., Spice) and can be done during a player's turn.\\n\\n4. Limitations: Observation posts have limitations on the amount of information they can provide. For example, they may only provide information about the state of the game up to a certain point in time.\\n\\nIn summary, spies and observation posts are essential components of the Dune: Imperium - Uprising game. Spies provide players with valuable intelligence and the ability to sabotage enemy operations, while observation posts provide players with information about the state of the game. Both units require resources to deploy and maintain, and they can be upgraded to provide additional benefits."
   ]
  }
 ],
 "metadata": {
  "kernelspec": {
   "display_name": "RAG-YT-History",
   "language": "python",
   "name": "python3"
  },
  "language_info": {
   "codemirror_mode": {
    "name": "ipython",
    "version": 3
   },
   "file_extension": ".py",
   "mimetype": "text/x-python",
   "name": "python",
   "nbconvert_exporter": "python",
   "pygments_lexer": "ipython3",
   "version": "3.11.9"
  }
 },
 "nbformat": 4,
 "nbformat_minor": 2
}
